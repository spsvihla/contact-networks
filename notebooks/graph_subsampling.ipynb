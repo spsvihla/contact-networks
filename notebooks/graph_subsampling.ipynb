{
 "cells": [
  {
   "cell_type": "markdown",
   "metadata": {},
   "source": [
    "## Graph subsampling"
   ]
  },
  {
   "cell_type": "code",
   "execution_count": 16,
   "metadata": {},
   "outputs": [],
   "source": [
    "%reset -f"
   ]
  },
  {
   "cell_type": "code",
   "execution_count": 17,
   "metadata": {},
   "outputs": [
    {
     "name": "stdout",
     "output_type": "stream",
     "text": [
      "Processing /home/sean/Workspaces/contact-networks\n",
      "  Preparing metadata (setup.py) ... \u001b[?25ldone\n",
      "\u001b[?25hRequirement already satisfied: numpy in /home/sean/Workspaces/contact-networks/.venv/lib/python3.10/site-packages (from contact-networks==0.1.0) (2.1.3)\n",
      "Using legacy 'setup.py install' for contact-networks, since package 'wheel' is not installed.\n",
      "Installing collected packages: contact-networks\n",
      "  Attempting uninstall: contact-networks\n",
      "    Found existing installation: contact-networks 0.1.0\n",
      "    Uninstalling contact-networks-0.1.0:\n",
      "      Successfully uninstalled contact-networks-0.1.0\n",
      "  Running setup.py install for contact-networks ... \u001b[?25ldone\n",
      "\u001b[?25hSuccessfully installed contact-networks-0.1.0\n",
      "Note: you may need to restart the kernel to use updated packages.\n"
     ]
    }
   ],
   "source": [
    "%pip install .."
   ]
  },
  {
   "cell_type": "code",
   "execution_count": 18,
   "metadata": {},
   "outputs": [],
   "source": [
    "import os\n",
    "import numpy as np\n",
    "import matplotlib.pyplot as plt\n",
    "from tabulate import tabulate\n",
    "from IPython.display import Markdown\n",
    "from contact_networks import graph_metrics, sampling_methods\n",
    "from contact_networks import utils"
   ]
  },
  {
   "cell_type": "code",
   "execution_count": 19,
   "metadata": {},
   "outputs": [
    {
     "data": {
      "text/plain": [
       "{'divide': 'raise', 'over': 'warn', 'under': 'ignore', 'invalid': 'warn'}"
      ]
     },
     "execution_count": 19,
     "metadata": {},
     "output_type": "execute_result"
    }
   ],
   "source": [
    "np.seterr(divide='raise')"
   ]
  },
  {
   "cell_type": "code",
   "execution_count": 20,
   "metadata": {},
   "outputs": [],
   "source": [
    "data = utils.load_data()"
   ]
  },
  {
   "cell_type": "code",
   "execution_count": 21,
   "metadata": {},
   "outputs": [],
   "source": [
    "FIG_DIR=\"../figures/\"\n",
    "TBL_DIR=\"../tables/\""
   ]
  },
  {
   "cell_type": "markdown",
   "metadata": {},
   "source": [
    "### Graphing helper-functions"
   ]
  },
  {
   "cell_type": "code",
   "execution_count": 22,
   "metadata": {},
   "outputs": [],
   "source": [
    "def _hist(ax, xs):\n",
    "    # histogram\n",
    "    hist, bins = np.histogram(xs, bins=20)\n",
    "    bar = ax.bar(bins[:-1], hist, \n",
    "                 width=np.diff(bins), \n",
    "                 edgecolor='black', \n",
    "                 linewidth=0.5,\n",
    "                 alpha=0.7)\n",
    "    \n",
    "    # hide all except the bottom spine\n",
    "    ax.spines[\"right\"].set_visible(False)\n",
    "    ax.spines[\"left\"].set_visible(False)\n",
    "    ax.spines[\"top\"].set_visible(False)\n",
    "    \n",
    "    return bar"
   ]
  },
  {
   "cell_type": "code",
   "execution_count": 23,
   "metadata": {},
   "outputs": [],
   "source": [
    "def _subfig(axes, item, metric):\n",
    "    axes = axes.ravel()\n",
    "\n",
    "    _hist(\n",
    "        axes[0], \n",
    "        metric(item['face-to-face'])\n",
    "    )\n",
    "    axes[0].set_title(f\"Face-to-face network\", fontsize=10)\n",
    "\n",
    "    _hist(\n",
    "        axes[1], \n",
    "        metric(item['co-present'])\n",
    "    )\n",
    "    axes[1].set_title(f\"Co-presence network\", fontsize=10)"
   ]
  },
  {
   "cell_type": "code",
   "execution_count": 24,
   "metadata": {},
   "outputs": [],
   "source": [
    "def _supfig(data, title, metric=graph_metrics.degree_distribution):\n",
    "    fig = plt.figure(layout='constrained', figsize=(8,11))\n",
    "    subfigs = fig.subfigures(6,1, hspace=0.05)\n",
    "\n",
    "    for subfig, key in zip(subfigs.ravel(), data):\n",
    "        axes = subfig.subplots(1,2, sharey=True)\n",
    "        _subfig(axes, data[key], metric)\n",
    "        subfig.suptitle(f\"{key} dataset, |V|={data[key]['face-to-face'].shape[0]}\", \n",
    "                        fontsize=10, fontweight='bold')\n",
    "\n",
    "    fig.suptitle(title, fontsize=12, fontweight='bold')\n",
    "    return fig\n"
   ]
  },
  {
   "cell_type": "markdown",
   "metadata": {},
   "source": [
    "### Table helper-functions"
   ]
  },
  {
   "cell_type": "code",
   "execution_count": 25,
   "metadata": {},
   "outputs": [],
   "source": [
    "def compute_graph_metric(data, graph_metric, sampling_method, \n",
    "                         sized_by_nodes, sampling_ratios):\n",
    "    metrics = np.zeros((6, 2 * sampling_ratios.size + 3), dtype=object)\n",
    "\n",
    "    n_ratios = sampling_ratios.size\n",
    "    row_idx = 0\n",
    "    for key, item in data.items():\n",
    "        adj_f2f = item['face-to-face']\n",
    "        adj_cop = item['co-present']\n",
    "\n",
    "        metrics[row_idx, 0] = key\n",
    "        metrics[row_idx, 1] = graph_metric(adj_f2f)\n",
    "        metrics[row_idx, n_ratios + 2] = graph_metric(adj_cop)\n",
    "\n",
    "        if sized_by_nodes:\n",
    "            size_f2f = adj_f2f.shape[0]\n",
    "            size_cop = adj_cop.shape[0]\n",
    "        else:\n",
    "            size_f2f = np.count_nonzero(adj_f2f) / 2\n",
    "            size_cop = np.count_nonzero(adj_cop) / 2\n",
    "\n",
    "        for col_idx, ratio in enumerate(sampling_ratios):\n",
    "            # compute adjacency matrices of sub-graphs\n",
    "            sub_f2f = sampling_method(adj_f2f, int(ratio * size_f2f))\n",
    "            sub_cop = sampling_method(adj_cop, int(ratio * size_cop))\n",
    "\n",
    "            # remove disconnected nodes\n",
    "            mask = np.any(sub_f2f != 0, axis=0)\n",
    "            sub_f2f = sub_f2f[mask][:, mask]\n",
    "\n",
    "            mask = np.any(sub_cop != 0, axis=0)\n",
    "            sub_cop = sub_cop[mask][:, mask]\n",
    "\n",
    "            # compute/store graph metric\n",
    "            metrics[row_idx, col_idx + 2] = graph_metric(sub_f2f)\n",
    "            metrics[row_idx, col_idx + n_ratios + 3] = graph_metric(sub_cop)\n",
    "\n",
    "        row_idx += 1\n",
    "\n",
    "    return metrics"
   ]
  },
  {
   "cell_type": "code",
   "execution_count": 26,
   "metadata": {},
   "outputs": [],
   "source": [
    "def tabulate_graph_metric(data, graph_metric, sampling_method, \n",
    "                          sized_by_nodes,sampling_ratios, \n",
    "                          filename, floatfmt, title):\n",
    "    metrics = compute_graph_metric(data, graph_metric, sampling_method, \n",
    "                                   sized_by_nodes, sampling_ratios)\n",
    "\n",
    "    headers = [\"Dataset\", \"Face-to-Face\"] \\\n",
    "            + [f\"f={ratio}\" for ratio in sampling_ratios] \\\n",
    "            + [\"Co-present\"] \\\n",
    "            + [f\"f={ratio}\" for ratio in sampling_ratios]\n",
    "\n",
    "    # create and save a LaTeX table\n",
    "    tex_title = r\"\\caption{\"+title+\"}\"\n",
    "    tex_begin_table = r\"\\begin{table}[ht]\"\n",
    "    tex_end_table = r\"\\end{table}\"\n",
    "\n",
    "    tex_table = tabulate(\n",
    "        metrics.tolist(),\n",
    "        headers=headers,\n",
    "        floatfmt=floatfmt,\n",
    "        tablefmt=\"latex\"  # Set the table format to LaTeX\n",
    "    )\n",
    "\n",
    "    tex_table = f\"{tex_begin_table}\\n{tex_table}\\n{tex_title}\\n{tex_end_table}\"\n",
    "\n",
    "    with open(os.path.join(TBL_DIR,filename+\".tex\"), \"w\") as f:\n",
    "        f.write(tex_table)\n",
    "\n",
    "    # create and display a Markodown table\n",
    "    md_title = title+\"\\n\"\n",
    "\n",
    "    md_table = tabulate(\n",
    "        metrics.tolist(),\n",
    "        headers=headers,\n",
    "        floatfmt=floatfmt,\n",
    "        tablefmt=\"github\"  # Set the table format to LaTeX\n",
    "    )\n",
    "\n",
    "    md_table = f\"{md_title}\\n{md_table}\"\n",
    "\n",
    "    display(Markdown(md_table))"
   ]
  },
  {
   "cell_type": "code",
   "execution_count": 27,
   "metadata": {},
   "outputs": [],
   "source": [
    "sampling_ratios = np.array([0.9, 0.8, 0.7, 0.6, 0.5])"
   ]
  },
  {
   "cell_type": "markdown",
   "metadata": {},
   "source": [
    "### Density"
   ]
  },
  {
   "cell_type": "code",
   "execution_count": 28,
   "metadata": {},
   "outputs": [],
   "source": [
    "floatfmt = (\"\", \".3f\", \".3f\", \".3f\", \".3f\", \".3f\", \".3f\", \".3f\", \".3f\", \".3f\", \".3f\", \".3f\", \".3f\")"
   ]
  },
  {
   "cell_type": "code",
   "execution_count": 29,
   "metadata": {},
   "outputs": [],
   "source": [
    "gms = [\n",
    "    {\n",
    "        'gm': graph_metrics.density,\n",
    "        'name': \"graph_metrics.density\",\n",
    "        'floatfmt': ()\n",
    "    },\n",
    "    {\n",
    "        'gm': graph_metrics.average_degree,\n",
    "        'name': \"graph_metrics.average_degree\",\n",
    "        'floatfmt': (),\n",
    "    },\n",
    "    {\n",
    "        'gm': graph_metrics.average_clustering_coefficient,\n",
    "        'name': \"graph_metrics.average_clustering_coefficient\",\n",
    "        'floatfmt': ()\n",
    "    }\n",
    "]\n",
    "sms = [\n",
    "    {\n",
    "        'sm': sampling_methods.node_sampling,\n",
    "        'name': \"sampling_methods.node_sampling\",\n",
    "        'sized_by_nodes': True\n",
    "    },\n",
    "    {\n",
    "        'sm': sampling_methods.edge_sampling,\n",
    "        'name': \"sampling_methods.edge_sampling\",\n",
    "        'sized_by_nodes': False\n",
    "    },\n",
    "    {\n",
    "        'sm': sampling_methods.metropolis_hastings_rw,\n",
    "        'name': \"sampling_methods.metropolis_hastings_rw\",\n",
    "        'sized_by_nodes': False\n",
    "    },\n",
    "    {\n",
    "        'sm': sampling_methods.frontier_sampling,\n",
    "        'name': \"sampling_methods.frontier_sampling\",\n",
    "        'sized_by_nodes': False\n",
    "    },\n",
    "    {\n",
    "        'sm': sampling_methods.snowball_expansion_sampling,\n",
    "        'name': \"sampling_methods.snowball_expansion_sampling\",\n",
    "        'sized_by_nodes': True\n",
    "    }\n",
    "]"
   ]
  },
  {
   "cell_type": "code",
   "execution_count": 30,
   "metadata": {},
   "outputs": [
    {
     "data": {
      "text/markdown": [
       "`graph_metrics.density` using `sampling_methods.node_sampling`\n",
       "\n",
       "| Dataset    |   Face-to-Face |   f=0.9 |   f=0.8 |   f=0.7 |   f=0.6 |   f=0.5 |   Co-present |   f=0.9 |   f=0.8 |   f=0.7 |   f=0.6 |   f=0.5 |\n",
       "|------------|----------------|---------|---------|---------|---------|---------|--------------|---------|---------|---------|---------|---------|\n",
       "| Thiers13   |          0.109 |   0.106 |   0.112 |   0.110 |   0.109 |   0.103 |        0.811 |   0.808 |   0.810 |   0.813 |   0.806 |   0.782 |\n",
       "| InVS13     |          0.180 |   0.182 |   0.177 |   0.183 |   0.183 |   0.145 |        0.877 |   0.872 |   0.889 |   0.887 |   0.882 |   0.893 |\n",
       "| LyonSchool |          0.285 |   0.287 |   0.277 |   0.284 |   0.292 |   0.291 |        0.912 |   0.918 |   0.908 |   0.924 |   0.922 |   0.917 |\n",
       "| SFHH       |          0.118 |   0.118 |   0.116 |   0.122 |   0.110 |   0.111 |        0.908 |   0.903 |   0.905 |   0.904 |   0.904 |   0.913 |\n",
       "| LH10       |          0.406 |   0.399 |   0.398 |   0.324 |   0.501 |   0.407 |        0.525 |   0.493 |   0.483 |   0.500 |   0.532 |   0.544 |\n",
       "| InVS15     |          0.182 |   0.182 |   0.182 |   0.181 |   0.185 |   0.173 |        0.701 |   0.706 |   0.715 |   0.687 |   0.701 |   0.678 |"
      ],
      "text/plain": [
       "<IPython.core.display.Markdown object>"
      ]
     },
     "metadata": {},
     "output_type": "display_data"
    },
    {
     "data": {
      "text/markdown": [
       "`graph_metrics.density` using `sampling_methods.edge_sampling`\n",
       "\n",
       "| Dataset    |   Face-to-Face |   f=0.9 |   f=0.8 |   f=0.7 |   f=0.6 |   f=0.5 |   Co-present |   f=0.9 |   f=0.8 |   f=0.7 |   f=0.6 |   f=0.5 |\n",
       "|------------|----------------|---------|---------|---------|---------|---------|--------------|---------|---------|---------|---------|---------|\n",
       "| Thiers13   |          0.109 |   0.098 |   0.087 |   0.076 |   0.065 |   0.055 |        0.811 |   0.730 |   0.649 |   0.568 |   0.487 |   0.406 |\n",
       "| InVS13     |          0.180 |   0.162 |   0.144 |   0.126 |   0.108 |   0.090 |        0.877 |   0.789 |   0.701 |   0.614 |   0.526 |   0.438 |\n",
       "| LyonSchool |          0.285 |   0.257 |   0.228 |   0.200 |   0.171 |   0.143 |        0.912 |   0.821 |   0.730 |   0.638 |   0.547 |   0.456 |\n",
       "| SFHH       |          0.118 |   0.106 |   0.095 |   0.083 |   0.071 |   0.060 |        0.908 |   0.817 |   0.726 |   0.636 |   0.545 |   0.454 |\n",
       "| LH10       |          0.406 |   0.365 |   0.324 |   0.284 |   0.243 |   0.203 |        0.525 |   0.473 |   0.420 |   0.368 |   0.315 |   0.263 |\n",
       "| InVS15     |          0.182 |   0.166 |   0.146 |   0.129 |   0.109 |   0.092 |        0.701 |   0.631 |   0.561 |   0.495 |   0.420 |   0.354 |"
      ],
      "text/plain": [
       "<IPython.core.display.Markdown object>"
      ]
     },
     "metadata": {},
     "output_type": "display_data"
    },
    {
     "data": {
      "text/markdown": [
       "`graph_metrics.density` using `sampling_methods.metropolis_hastings_rw`\n",
       "\n",
       "| Dataset    |   Face-to-Face |   f=0.9 |   f=0.8 |   f=0.7 |   f=0.6 |   f=0.5 |   Co-present |   f=0.9 |   f=0.8 |   f=0.7 |   f=0.6 |   f=0.5 |\n",
       "|------------|----------------|---------|---------|---------|---------|---------|--------------|---------|---------|---------|---------|---------|\n",
       "| Thiers13   |          0.109 |   0.062 |   0.058 |   0.053 |   0.047 |   0.042 |        0.811 |   0.478 |   0.445 |   0.405 |   0.364 |   0.317 |\n",
       "| InVS13     |          0.180 |   0.101 |   0.096 |   0.094 |   0.088 |   0.068 |        0.877 |   0.515 |   0.484 |   0.439 |   0.397 |   0.342 |\n",
       "| LyonSchool |          0.285 |   0.162 |   0.151 |   0.138 |   0.126 |   0.108 |        0.912 |   0.539 |   0.503 |   0.458 |   0.411 |   0.358 |\n",
       "| SFHH       |          0.118 |   0.067 |   0.062 |   0.058 |   0.050 |   0.045 |        0.908 |   0.537 |   0.501 |   0.454 |   0.408 |   0.357 |\n",
       "| LH10       |          0.406 |   0.238 |   0.216 |   0.192 |   0.182 |   0.156 |        0.525 |   0.311 |   0.295 |   0.273 |   0.243 |   0.199 |\n",
       "| InVS15     |          0.182 |   0.108 |   0.098 |   0.092 |   0.083 |   0.070 |        0.701 |   0.410 |   0.391 |   0.349 |   0.317 |   0.271 |"
      ],
      "text/plain": [
       "<IPython.core.display.Markdown object>"
      ]
     },
     "metadata": {},
     "output_type": "display_data"
    },
    {
     "data": {
      "text/markdown": [
       "`graph_metrics.density` using `sampling_methods.frontier_sampling`\n",
       "\n",
       "| Dataset    |   Face-to-Face |   f=0.9 |   f=0.8 |   f=0.7 |   f=0.6 |   f=0.5 |   Co-present |   f=0.9 |   f=0.8 |   f=0.7 |   f=0.6 |   f=0.5 |\n",
       "|------------|----------------|---------|---------|---------|---------|---------|--------------|---------|---------|---------|---------|---------|\n",
       "| Thiers13   |          0.109 |   0.064 |   0.060 |   0.054 |   0.048 |   0.043 |        0.811 |   0.480 |   0.445 |   0.407 |   0.364 |   0.318 |\n",
       "| InVS13     |          0.180 |   0.107 |   0.099 |   0.091 |   0.083 |   0.072 |        0.877 |   0.522 |   0.480 |   0.445 |   0.397 |   0.342 |\n",
       "| LyonSchool |          0.285 |   0.169 |   0.156 |   0.142 |   0.126 |   0.111 |        0.912 |   0.539 |   0.501 |   0.457 |   0.411 |   0.359 |\n",
       "| SFHH       |          0.118 |   0.070 |   0.065 |   0.060 |   0.053 |   0.046 |        0.908 |   0.537 |   0.498 |   0.456 |   0.409 |   0.358 |\n",
       "| LH10       |          0.406 |   0.241 |   0.220 |   0.197 |   0.178 |   0.161 |        0.525 |   0.319 |   0.287 |   0.269 |   0.237 |   0.209 |\n",
       "| InVS15     |          0.182 |   0.110 |   0.102 |   0.092 |   0.083 |   0.071 |        0.701 |   0.417 |   0.387 |   0.351 |   0.317 |   0.278 |"
      ],
      "text/plain": [
       "<IPython.core.display.Markdown object>"
      ]
     },
     "metadata": {},
     "output_type": "display_data"
    },
    {
     "data": {
      "text/markdown": [
       "`graph_metrics.density` using `sampling_methods.snowball_expansion_sampling`\n",
       "\n",
       "| Dataset    |   Face-to-Face |   f=0.9 |   f=0.8 |   f=0.7 |   f=0.6 |   f=0.5 |   Co-present |   f=0.9 |   f=0.8 |   f=0.7 |   f=0.6 |   f=0.5 |\n",
       "|------------|----------------|---------|---------|---------|---------|---------|--------------|---------|---------|---------|---------|---------|\n",
       "| Thiers13   |          0.109 |   0.112 |   0.120 |   0.124 |   0.131 |   0.142 |        0.811 |   0.806 |   0.805 |   0.807 |   0.813 |   0.816 |\n",
       "| InVS13     |          0.180 |   0.191 |   0.195 |   0.212 |   0.222 |   0.212 |        0.877 |   0.866 |   0.893 |   0.899 |   0.885 |   0.871 |\n",
       "| LyonSchool |          0.285 |   0.289 |   0.292 |   0.306 |   0.325 |   0.360 |        0.912 |   0.914 |   0.922 |   0.924 |   0.911 |   0.930 |\n",
       "| SFHH       |          0.118 |   0.120 |   0.122 |   0.134 |   0.133 |   0.145 |        0.908 |   0.910 |   0.908 |   0.926 |   0.936 |   0.946 |\n",
       "| LH10       |          0.406 |   0.437 |   0.495 |   0.504 |   0.527 |   0.587 |        0.525 |   0.561 |   0.556 |   0.660 |   0.717 |   0.811 |\n",
       "| InVS15     |          0.182 |   0.179 |   0.187 |   0.186 |   0.198 |   0.200 |        0.701 |   0.699 |   0.693 |   0.690 |   0.700 |   0.709 |"
      ],
      "text/plain": [
       "<IPython.core.display.Markdown object>"
      ]
     },
     "metadata": {},
     "output_type": "display_data"
    },
    {
     "data": {
      "text/markdown": [
       "`graph_metrics.average_degree` using `sampling_methods.node_sampling`\n",
       "\n",
       "| Dataset    |   Face-to-Face |   f=0.9 |   f=0.8 |   f=0.7 |   f=0.6 |   f=0.5 |   Co-present |   f=0.9 |   f=0.8 |   f=0.7 |   f=0.6 |   f=0.5 |\n",
       "|------------|----------------|---------|---------|---------|---------|---------|--------------|---------|---------|---------|---------|---------|\n",
       "| Thiers13   |         35.584 |  31.660 |  29.295 |  26.167 |  21.327 |  18.061 |      265.220 | 236.692 | 208.954 | 184.376 | 157.112 | 130.939 |\n",
       "| InVS13     |         16.413 |  14.610 |  13.397 |  10.656 |   9.455 |   8.783 |       82.421 |  72.729 |  64.263 |  53.727 |  51.123 |  40.383 |\n",
       "| LyonSchool |         68.736 |  61.714 |  56.570 |  49.467 |  41.297 |  32.678 |      219.785 | 197.438 | 176.052 | 152.260 | 132.703 | 110.545 |\n",
       "| SFHH       |         47.469 |  41.453 |  39.186 |  37.284 |  27.732 |  23.920 |      365.047 | 326.039 | 288.770 | 252.723 | 219.900 | 178.547 |\n",
       "| LH10       |         30.421 |  26.647 |  25.433 |  19.208 |  20.267 |  13.000 |       37.836 |  35.200 |  29.172 |  23.804 |  21.721 |  18.778 |\n",
       "| InVS15     |         39.392 |  35.569 |  32.372 |  28.106 |  25.062 |  19.736 |      152.740 | 136.548 | 125.783 | 104.632 |  90.382 |  73.431 |"
      ],
      "text/plain": [
       "<IPython.core.display.Markdown object>"
      ]
     },
     "metadata": {},
     "output_type": "display_data"
    },
    {
     "data": {
      "text/markdown": [
       "`graph_metrics.average_degree` using `sampling_methods.edge_sampling`\n",
       "\n",
       "| Dataset    |   Face-to-Face |   f=0.9 |   f=0.8 |   f=0.7 |   f=0.6 |   f=0.5 |   Co-present |   f=0.9 |   f=0.8 |   f=0.7 |   f=0.6 |   f=0.5 |\n",
       "|------------|----------------|---------|---------|---------|---------|---------|--------------|---------|---------|---------|---------|---------|\n",
       "| Thiers13   |         35.584 |  32.024 |  28.465 |  24.905 |  21.346 |  17.847 |      265.220 | 238.695 | 212.171 | 185.652 | 159.128 | 132.610 |\n",
       "| InVS13     |         16.413 |  14.761 |  13.130 |  11.478 |   9.848 |   8.196 |       82.421 |  74.168 |  65.937 |  57.684 |  49.453 |  41.200 |\n",
       "| LyonSchool |         68.736 |  61.860 |  54.983 |  48.107 |  41.240 |  34.364 |      219.785 | 197.802 | 175.826 | 153.843 | 131.868 | 109.893 |\n",
       "| SFHH       |         47.469 |  42.720 |  38.070 |  33.226 |  28.552 |  23.791 |      365.047 | 328.541 | 292.035 | 255.529 | 219.027 | 182.521 |\n",
       "| LH10       |         30.421 |  27.368 |  24.316 |  21.289 |  18.237 |  15.413 |       37.836 |  34.027 |  30.247 |  26.466 |  23.000 |  18.904 |\n",
       "| InVS15     |         39.392 |  35.611 |  31.657 |  27.823 |  23.741 |  19.696 |      152.740 | 137.461 | 122.192 | 107.404 |  92.064 |  76.716 |"
      ],
      "text/plain": [
       "<IPython.core.display.Markdown object>"
      ]
     },
     "metadata": {},
     "output_type": "display_data"
    },
    {
     "data": {
      "text/markdown": [
       "`graph_metrics.average_degree` using `sampling_methods.metropolis_hastings_rw`\n",
       "\n",
       "| Dataset    |   Face-to-Face |   f=0.9 |   f=0.8 |   f=0.7 |   f=0.6 |   f=0.5 |   Co-present |   f=0.9 |   f=0.8 |   f=0.7 |   f=0.6 |   f=0.5 |\n",
       "|------------|----------------|---------|---------|---------|---------|---------|--------------|---------|---------|---------|---------|---------|\n",
       "| Thiers13   |         35.584 |  20.251 |  18.856 |  17.188 |  15.405 |  13.674 |      265.220 | 156.659 | 145.677 | 132.774 | 118.957 | 104.006 |\n",
       "| InVS13     |         16.413 |   9.011 |   8.500 |   7.956 |   6.967 |   6.044 |       82.421 |  47.811 |  44.821 |  41.179 |  36.653 |  32.379 |\n",
       "| LyonSchool |         68.736 |  39.711 |  36.636 |  33.612 |  29.876 |  26.124 |      219.785 | 130.256 | 121.331 | 110.777 |  98.909 |  86.339 |\n",
       "| SFHH       |         47.469 |  26.570 |  24.737 |  23.048 |  20.562 |  17.940 |      365.047 | 216.015 | 200.199 | 183.469 | 164.194 | 143.335 |\n",
       "| LH10       |         30.421 |  17.211 |  16.107 |  14.737 |  13.467 |  11.579 |       37.836 |  21.699 |  21.429 |  18.472 |  16.917 |  14.361 |\n",
       "| InVS15     |         39.392 |  22.553 |  20.791 |  19.435 |  17.315 |  15.009 |      152.740 |  90.183 |  83.890 |  76.877 |  69.037 |  60.000 |"
      ],
      "text/plain": [
       "<IPython.core.display.Markdown object>"
      ]
     },
     "metadata": {},
     "output_type": "display_data"
    },
    {
     "data": {
      "text/markdown": [
       "`graph_metrics.average_degree` using `sampling_methods.frontier_sampling`\n",
       "\n",
       "| Dataset    |   Face-to-Face |   f=0.9 |   f=0.8 |   f=0.7 |   f=0.6 |   f=0.5 |   Co-present |   f=0.9 |   f=0.8 |   f=0.7 |   f=0.6 |   f=0.5 |\n",
       "|------------|----------------|---------|---------|---------|---------|---------|--------------|---------|---------|---------|---------|---------|\n",
       "| Thiers13   |         35.584 |  20.722 |  19.405 |  17.761 |  15.945 |  13.724 |      265.220 | 156.866 | 145.793 | 133.165 | 119.677 | 104.012 |\n",
       "| InVS13     |         16.413 |   9.582 |   8.899 |   8.205 |   7.643 |   6.295 |       82.421 |  48.632 |  45.263 |  41.895 |  36.484 |  32.253 |\n",
       "| LyonSchool |         68.736 |  40.612 |  37.529 |  34.331 |  30.868 |  26.917 |      219.785 | 130.033 | 121.083 | 109.785 |  98.793 |  86.322 |\n",
       "| SFHH       |         47.469 |  28.025 |  26.035 |  23.729 |  21.144 |  18.652 |      365.047 | 216.422 | 200.412 | 183.777 | 164.521 | 143.489 |\n",
       "| LH10       |         30.421 |  18.026 |  16.316 |  15.324 |  13.840 |  12.472 |       37.836 |  22.247 |  20.694 |  18.959 |  17.083 |  14.806 |\n",
       "| InVS15     |         39.392 |  23.102 |  21.330 |  19.804 |  17.907 |  15.352 |      152.740 |  90.283 |  84.329 |  76.193 |  68.697 |  60.284 |"
      ],
      "text/plain": [
       "<IPython.core.display.Markdown object>"
      ]
     },
     "metadata": {},
     "output_type": "display_data"
    },
    {
     "data": {
      "text/markdown": [
       "`graph_metrics.average_degree` using `sampling_methods.snowball_expansion_sampling`\n",
       "\n",
       "| Dataset    |   Face-to-Face |   f=0.9 |   f=0.8 |   f=0.7 |   f=0.6 |   f=0.5 |   Co-present |   f=0.9 |   f=0.8 |   f=0.7 |   f=0.6 |   f=0.5 |\n",
       "|------------|----------------|---------|---------|---------|---------|---------|--------------|---------|---------|---------|---------|---------|\n",
       "| Thiers13   |         35.584 |  33.075 |  31.211 |  28.333 |  25.357 |  23.055 |      265.220 | 236.969 | 209.939 | 183.782 | 158.112 | 132.927 |\n",
       "| InVS13     |         16.413 |  15.805 |  14.027 |  13.281 |  12.364 |   9.870 |       82.421 |  72.729 |  66.974 |  58.424 |  49.614 |  39.957 |\n",
       "| LyonSchool |         68.736 |  62.922 |  56.021 |  50.994 |  47.117 |  43.405 |      219.785 | 197.364 | 177.016 | 155.172 | 131.503 | 111.587 |\n",
       "| SFHH       |         47.469 |  43.387 |  39.683 |  36.957 |  31.842 |  29.055 |      365.047 | 328.575 | 291.360 | 260.284 | 224.556 | 189.264 |\n",
       "| LH10       |         30.421 |  29.559 |  26.800 |  26.792 |  23.822 |  23.105 |       37.836 |  35.877 |  32.621 |  32.980 |  30.047 |  26.278 |\n",
       "| InVS15     |         39.392 |  34.667 |  31.954 |  28.821 |  26.046 |  21.833 |      152.740 | 136.934 | 120.617 | 105.294 |  90.947 |  76.752 |"
      ],
      "text/plain": [
       "<IPython.core.display.Markdown object>"
      ]
     },
     "metadata": {},
     "output_type": "display_data"
    },
    {
     "name": "stderr",
     "output_type": "stream",
     "text": [
      "/home/sean/Workspaces/contact-networks/.venv/lib/python3.10/site-packages/contact_networks/graph_metrics.py:77: RuntimeWarning: invalid value encountered in divide\n",
      "  coefs = 2 * np.divide(np.diag(triangles), (degs * (degs - 1)))\n"
     ]
    },
    {
     "data": {
      "text/markdown": [
       "`graph_metrics.average_clustering_coefficient` using `sampling_methods.node_sampling`\n",
       "\n",
       "| Dataset    |   Face-to-Face |   f=0.9 |   f=0.8 |   f=0.7 |   f=0.6 |   f=0.5 |   Co-present |   f=0.9 |   f=0.8 |   f=0.7 |   f=0.6 |   f=0.5 |\n",
       "|------------|----------------|---------|---------|---------|---------|---------|--------------|---------|---------|---------|---------|---------|\n",
       "| Thiers13   |          0.504 |   0.502 |   0.506 |   0.510 |   0.495 |   0.515 |        0.843 |   0.840 |   0.840 |   0.843 |   0.828 |   0.837 |\n",
       "| InVS13     |          0.426 |   0.423 |   0.417 |   0.448 |   0.413 |   0.420 |        0.928 |   0.929 |   0.928 |   0.937 |   0.924 |   0.927 |\n",
       "| LyonSchool |          0.526 |   0.533 |   0.537 |   0.522 |   0.525 |   0.553 |        0.929 |   0.927 |   0.927 |   0.933 |   0.929 |   0.926 |\n",
       "| SFHH       |          0.282 |   0.283 |   0.293 |   0.254 |   0.253 |   0.310 |        0.944 |   0.942 |   0.941 |   0.948 |   0.944 |   0.949 |\n",
       "| LH10       |          0.679 |   0.692 |   0.652 |   0.705 |   0.687 |   0.660 |        0.776 |   0.764 |   0.788 |   0.809 |   0.825 |   0.730 |\n",
       "| InVS15     |          0.381 |   0.384 |   0.391 |   0.382 |   0.370 |   0.391 |        0.799 |   0.799 |   0.804 |   0.791 |   0.810 |   0.832 |"
      ],
      "text/plain": [
       "<IPython.core.display.Markdown object>"
      ]
     },
     "metadata": {},
     "output_type": "display_data"
    },
    {
     "data": {
      "text/markdown": [
       "`graph_metrics.average_clustering_coefficient` using `sampling_methods.edge_sampling`\n",
       "\n",
       "| Dataset    |   Face-to-Face |   f=0.9 |   f=0.8 |   f=0.7 |   f=0.6 |   f=0.5 |   Co-present |   f=0.9 |   f=0.8 |   f=0.7 |   f=0.6 |   f=0.5 |\n",
       "|------------|----------------|---------|---------|---------|---------|---------|--------------|---------|---------|---------|---------|---------|\n",
       "| Thiers13   |          0.504 |   0.453 |   0.412 |   0.349 |   0.304 |   0.251 |        0.843 |   0.758 |   0.674 |   0.590 |   0.505 |   0.422 |\n",
       "| InVS13     |          0.426 |   0.384 |   0.333 |   0.298 |   0.260 |   0.218 |        0.928 |   0.836 |   0.737 |   0.652 |   0.553 |   0.463 |\n",
       "| LyonSchool |          0.526 |   0.471 |   0.425 |   0.365 |   0.314 |   0.263 |        0.929 |   0.837 |   0.742 |   0.650 |   0.556 |   0.463 |\n",
       "| SFHH       |          0.282 |   0.254 |   0.224 |   0.193 |   0.168 |   0.144 |        0.944 |   0.849 |   0.756 |   0.660 |   0.567 |   0.472 |\n",
       "| LH10       |          0.679 |   0.605 |   0.546 |   0.479 |   0.427 |   0.307 |        0.776 |   0.698 |   0.610 |   0.536 |   0.450 |   0.360 |\n",
       "| InVS15     |          0.381 |   0.344 |   0.308 |   0.277 |   0.232 |   0.189 |        0.799 |   0.719 |   0.639 |   0.559 |   0.484 |   0.399 |"
      ],
      "text/plain": [
       "<IPython.core.display.Markdown object>"
      ]
     },
     "metadata": {},
     "output_type": "display_data"
    },
    {
     "data": {
      "text/markdown": [
       "`graph_metrics.average_clustering_coefficient` using `sampling_methods.metropolis_hastings_rw`\n",
       "\n",
       "| Dataset    |   Face-to-Face |   f=0.9 |   f=0.8 |   f=0.7 |   f=0.6 |   f=0.5 |   Co-present |   f=0.9 |   f=0.8 |   f=0.7 |   f=0.6 |   f=0.5 |\n",
       "|------------|----------------|---------|---------|---------|---------|---------|--------------|---------|---------|---------|---------|---------|\n",
       "| Thiers13   |          0.504 |   0.288 |   0.276 |   0.246 |   0.232 |   0.197 |        0.843 |   0.497 |   0.461 |   0.420 |   0.381 |   0.330 |\n",
       "| InVS13     |          0.426 |   0.239 |   0.238 |   0.186 |   0.230 |   0.156 |        0.928 |   0.544 |   0.512 |   0.464 |   0.421 |   0.362 |\n",
       "| LyonSchool |          0.526 |   0.300 |   0.283 |   0.261 |   0.230 |   0.209 |        0.929 |   0.552 |   0.514 |   0.466 |   0.418 |   0.366 |\n",
       "| SFHH       |          0.282 |   0.133 |   0.128 |   0.112 |   0.103 |   0.084 |        0.944 |   0.562 |   0.518 |   0.475 |   0.425 |   0.371 |\n",
       "| LH10       |          0.679 |   0.333 |   0.314 |   0.312 |   0.256 |   0.208 |        0.776 |   0.415 |   0.401 |   0.389 |   0.343 |   0.315 |\n",
       "| InVS15     |          0.381 |   0.224 |   0.197 |   0.184 |   0.162 |   0.156 |        0.799 |   0.462 |   0.433 |   0.397 |   0.357 |   0.308 |"
      ],
      "text/plain": [
       "<IPython.core.display.Markdown object>"
      ]
     },
     "metadata": {},
     "output_type": "display_data"
    },
    {
     "data": {
      "text/markdown": [
       "`graph_metrics.average_clustering_coefficient` using `sampling_methods.frontier_sampling`\n",
       "\n",
       "| Dataset    |   Face-to-Face |   f=0.9 |   f=0.8 |   f=0.7 |   f=0.6 |   f=0.5 |   Co-present |   f=0.9 |   f=0.8 |   f=0.7 |   f=0.6 |   f=0.5 |\n",
       "|------------|----------------|---------|---------|---------|---------|---------|--------------|---------|---------|---------|---------|---------|\n",
       "| Thiers13   |          0.504 |   0.304 |   0.267 |   0.261 |   0.236 |   0.212 |        0.843 |   0.499 |   0.463 |   0.427 |   0.382 |   0.334 |\n",
       "| InVS13     |          0.426 |   0.248 |   0.247 |   0.187 |   0.245 |   0.186 |        0.928 |   0.554 |   0.517 |   0.468 |   0.425 |   0.367 |\n",
       "| LyonSchool |          0.526 |   0.313 |   0.286 |   0.260 |   0.241 |   0.209 |        0.929 |   0.552 |   0.515 |   0.469 |   0.422 |   0.372 |\n",
       "| SFHH       |          0.282 |   0.173 |   0.160 |   0.135 |   0.129 |   0.114 |        0.944 |   0.562 |   0.520 |   0.475 |   0.428 |   0.371 |\n",
       "| LH10       |          0.679 |   0.432 |   0.363 |   0.321 |   0.295 |   0.267 |        0.776 |   0.450 |   0.444 |   0.419 |   0.348 |   0.285 |\n",
       "| InVS15     |          0.381 |   0.231 |   0.213 |   0.201 |   0.170 |   0.169 |        0.799 |   0.469 |   0.441 |   0.406 |   0.360 |   0.319 |"
      ],
      "text/plain": [
       "<IPython.core.display.Markdown object>"
      ]
     },
     "metadata": {},
     "output_type": "display_data"
    },
    {
     "data": {
      "text/markdown": [
       "`graph_metrics.average_clustering_coefficient` using `sampling_methods.snowball_expansion_sampling`\n",
       "\n",
       "| Dataset    |   Face-to-Face |   f=0.9 |   f=0.8 |   f=0.7 |   f=0.6 |   f=0.5 |   Co-present |   f=0.9 |   f=0.8 |   f=0.7 |   f=0.6 |   f=0.5 |\n",
       "|------------|----------------|---------|---------|---------|---------|---------|--------------|---------|---------|---------|---------|---------|\n",
       "| Thiers13   |          0.504 |   0.515 |   0.529 |   0.519 |   0.531 |   0.542 |        0.843 |   0.839 |   0.841 |   0.843 |   0.850 |   0.858 |\n",
       "| InVS13     |          0.426 |   0.424 |   0.426 |   0.408 |   0.385 |   0.411 |        0.928 |   0.921 |   0.937 |   0.949 |   0.942 |   0.936 |\n",
       "| LyonSchool |          0.526 |   0.525 |   0.525 |   0.537 |   0.558 |   0.575 |        0.929 |   0.931 |   0.938 |   0.940 |   0.929 |   0.945 |\n",
       "| SFHH       |          0.282 |   0.289 |   0.301 |   0.311 |   0.312 |   0.328 |        0.944 |   0.946 |   0.946 |   0.952 |   0.956 |   0.964 |\n",
       "| LH10       |          0.679 |   0.684 |   0.705 |   0.730 |   0.745 |   0.778 |        0.776 |   0.777 |   0.789 |   0.815 |   0.841 |   0.904 |\n",
       "| InVS15     |          0.381 |   0.380 |   0.384 |   0.390 |   0.401 |   0.414 |        0.799 |   0.801 |   0.792 |   0.789 |   0.788 |   0.803 |"
      ],
      "text/plain": [
       "<IPython.core.display.Markdown object>"
      ]
     },
     "metadata": {},
     "output_type": "display_data"
    }
   ],
   "source": [
    "idx = 1\n",
    "for gm in gms:\n",
    "    for sm in sms:\n",
    "        tabulate_graph_metric(data=data, \n",
    "            graph_metric=gm['gm'],\n",
    "            sampling_method=sm['sm'],\n",
    "            sized_by_nodes=sm['sized_by_nodes'],\n",
    "            sampling_ratios=sampling_ratios, \n",
    "            filename=f\"proj2_tab{idx}\",\n",
    "            floatfmt=floatfmt,\n",
    "            title=f\"`{gm['name']}` using `{sm['name']}`\")\n",
    "        idx += 1"
   ]
  }
 ],
 "metadata": {
  "kernelspec": {
   "display_name": ".venv",
   "language": "python",
   "name": "python3"
  },
  "language_info": {
   "codemirror_mode": {
    "name": "ipython",
    "version": 3
   },
   "file_extension": ".py",
   "mimetype": "text/x-python",
   "name": "python",
   "nbconvert_exporter": "python",
   "pygments_lexer": "ipython3",
   "version": "3.10.12"
  }
 },
 "nbformat": 4,
 "nbformat_minor": 2
}
